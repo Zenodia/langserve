{
 "cells": [
  {
   "cell_type": "markdown",
   "id": "e6280315-b685-4c10-8f5d-161861555b6e",
   "metadata": {},
   "source": [
    "## make sure you run the following command first to get an api call : \n",
    "poetry run langchain serve --port=8100 "
   ]
  },
  {
   "cell_type": "code",
   "execution_count": 3,
   "id": "c95c32ef-9535-46a5-9055-61af2e9cb3fe",
   "metadata": {},
   "outputs": [
    {
     "data": {
      "text/plain": [
       "<Response [200]>"
      ]
     },
     "execution_count": 3,
     "metadata": {},
     "output_type": "execute_result"
    }
   ],
   "source": [
    "import requests\n",
    "\n",
    "messages=[{\"role\":\"user\",\"content\":\"turn view right 30 degrees\"}]\n",
    "inputs = {\"input\": {\"input\": \"turn view right 15 degrees\"}}\n",
    "\n",
    "\n",
    "response = requests.post(\"http://localhost:8000/invoke\", json=inputs)\n",
    "response\n"
   ]
  },
  {
   "cell_type": "code",
   "execution_count": 4,
   "id": "94617032-841f-4b35-8f07-0e7a6aafacff",
   "metadata": {},
   "outputs": [
    {
     "data": {
      "text/plain": [
       "{'output': {'output': '@tts move_view_right 15 degrees'},\n",
       " 'metadata': {'run_id': 'dc7d3123-8a69-4589-a343-44035921a2c4',\n",
       "  'feedback_tokens': []}}"
      ]
     },
     "execution_count": 4,
     "metadata": {},
     "output_type": "execute_result"
    }
   ],
   "source": [
    "response.json()"
   ]
  },
  {
   "cell_type": "code",
   "execution_count": null,
   "id": "f72eca66-e30e-46f3-9d92-bbcbe7070d6b",
   "metadata": {},
   "outputs": [],
   "source": [
    "from langgraph.graph import END, StateGraph, MessageGraph\n",
    "MessageGraph()"
   ]
  },
  {
   "cell_type": "code",
   "execution_count": null,
   "id": "8f1f6857-d84e-4ff5-bd66-a01a65e1f1f6",
   "metadata": {},
   "outputs": [],
   "source": []
  },
  {
   "cell_type": "code",
   "execution_count": null,
   "id": "0f922bc1-9076-4f02-a002-7d2f30facde8",
   "metadata": {},
   "outputs": [],
   "source": [
    "from langchain_nvidia_ai_endpoints import ChatNVIDIA\n",
    "nvapi_key=\"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\"\n",
    "\n",
    "llm = ChatNVIDIA(model=\"ai-mixtral-8x7b-instruct\", nvidia_api_key=nvapi_key, max_tokens=1024)\n",
    "llm.invoke(\"hellow\")"
   ]
  },
  {
   "cell_type": "code",
   "execution_count": null,
   "id": "bdcec2e0-da7c-4ab5-9fae-adcb6bfc87b9",
   "metadata": {},
   "outputs": [],
   "source": [
    "llm.input_schema"
   ]
  },
  {
   "cell_type": "code",
   "execution_count": null,
   "id": "cdd01180-8f5b-4662-9e7a-128925986603",
   "metadata": {},
   "outputs": [],
   "source": [
    "from langserve import RemoteRunnable\n",
    "remote_runnable = RemoteRunnable(\"http://localhost:8000/\")\n",
    "\n",
    "await remote_runnable.ainvoke({\"input\": \"turn view up 10 degrees\"})"
   ]
  },
  {
   "cell_type": "code",
   "execution_count": null,
   "id": "77dd2192-66ef-4a6d-b0dd-56e3e1c3b037",
   "metadata": {},
   "outputs": [],
   "source": [
    "from langserve import RemoteRunnable\n",
    "\n",
    "remote_runnable = RemoteRunnable(\"http://localhost:8000/\")\n",
    "\n",
    "remote_runnable.invoke({\"input\": \"turn view down 5 degrees\"})\n"
   ]
  }
 ],
 "metadata": {
  "kernelspec": {
   "display_name": "Python 3 (ipykernel)",
   "language": "python",
   "name": "python3"
  },
  "language_info": {
   "codemirror_mode": {
    "name": "ipython",
    "version": 3
   },
   "file_extension": ".py",
   "mimetype": "text/x-python",
   "name": "python",
   "nbconvert_exporter": "python",
   "pygments_lexer": "ipython3",
   "version": "3.11.9"
  }
 },
 "nbformat": 4,
 "nbformat_minor": 5
}
